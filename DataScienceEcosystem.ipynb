{
 "cells": [
  {
   "cell_type": "markdown",
   "id": "9659ad1a-ebdd-43bc-8caa-ffa10a9b5aa1",
   "metadata": {},
   "source": [
    "# Data Science Tools and Ecosystem"
   ]
  },
  {
   "cell_type": "markdown",
   "id": "a4ce4154-c797-444a-b39c-293ac8f8e181",
   "metadata": {},
   "source": [
    "In this notebook, Data Science Tools and Ecosystem are summarized."
   ]
  },
  {
   "cell_type": "markdown",
   "id": "fa23868e-54cd-41a7-bbe3-f033eef83aae",
   "metadata": {},
   "source": [
    "**Objective**\n",
    "* List Popular Languages in Data Science\n",
    "* List Common Libraries used by Data Scientists\n",
    "* List Data Science Tools\n",
    "* Examples of arithmatic calculations in Python"
   ]
  },
  {
   "cell_type": "markdown",
   "id": "de0f191a-5ea1-4bcf-9daf-d1c71ba85396",
   "metadata": {},
   "source": [
    "Some of the popular languages that Data Scientists use are:\n",
    "1. Python\n",
    "2. R\n",
    "3. SQL"
   ]
  },
  {
   "cell_type": "markdown",
   "id": "abc1c8ee-6856-4e05-a5d3-b3b4bc121272",
   "metadata": {},
   "source": [
    "Some of the commonly used libraries used by Data Scientists include:\n",
    "1. Pandas\n",
    "2. Numpy\n",
    "3. Scikit-learn\n",
    "4. matplotlib"
   ]
  },
  {
   "cell_type": "markdown",
   "id": "d8eaf7ed-e746-4267-862a-5ccf253e4ea6",
   "metadata": {},
   "source": [
    "|Data Science Tools|\n",
    "|-------------|\n",
    "|Jupyter|\n",
    "| R Studio |\n",
    "| Apache Spark |"
   ]
  },
  {
   "cell_type": "markdown",
   "id": "f735a043-1dd9-4b3e-8b5e-c04707680cf0",
   "metadata": {},
   "source": [
    "### Below are a few examples of evaluating arithmetic expressions in Python"
   ]
  },
  {
   "cell_type": "code",
   "execution_count": 1,
   "id": "07de6074-4647-47ea-bd2e-4e8e5da9cdb9",
   "metadata": {},
   "outputs": [
    {
     "data": {
      "text/plain": [
       "17"
      ]
     },
     "execution_count": 1,
     "metadata": {},
     "output_type": "execute_result"
    }
   ],
   "source": [
    "# This a simple arithmetic expression to mutiply then add integers\n",
    "(3*4)+5"
   ]
  },
  {
   "cell_type": "code",
   "execution_count": 2,
   "id": "88465bae-8656-4649-b23a-9721778b6a25",
   "metadata": {},
   "outputs": [
    {
     "data": {
      "text/plain": [
       "3.3333333333333335"
      ]
     },
     "execution_count": 2,
     "metadata": {},
     "output_type": "execute_result"
    }
   ],
   "source": [
    "# This will convert 200 minutes to hours by diving by 60\n",
    "200/60"
   ]
  },
  {
   "cell_type": "markdown",
   "id": "cb500354-39a3-4c48-9672-c157f9f0b446",
   "metadata": {},
   "source": [
    "## Author\n",
    "Eli Van Cleve"
   ]
  },
  {
   "cell_type": "code",
   "execution_count": null,
   "id": "004c4eb0-1609-479f-8e6f-4fc27d0f8917",
   "metadata": {
    "jupyter": {
     "source_hidden": true
    }
   },
   "outputs": [],
   "source": []
  }
 ],
 "metadata": {
  "kernelspec": {
   "display_name": "Python 3 (ipykernel)",
   "language": "python",
   "name": "python3"
  },
  "language_info": {
   "codemirror_mode": {
    "name": "ipython",
    "version": 3
   },
   "file_extension": ".py",
   "mimetype": "text/x-python",
   "name": "python",
   "nbconvert_exporter": "python",
   "pygments_lexer": "ipython3",
   "version": "3.12.8"
  }
 },
 "nbformat": 4,
 "nbformat_minor": 5
}
